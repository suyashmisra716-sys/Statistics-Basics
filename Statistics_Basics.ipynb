{
  "nbformat": 4,
  "nbformat_minor": 0,
  "metadata": {
    "colab": {
      "provenance": []
    },
    "kernelspec": {
      "name": "python3",
      "display_name": "Python 3"
    },
    "language_info": {
      "name": "python"
    }
  },
  "cells": [
    {
      "cell_type": "markdown",
      "source": [
        "**Statistics Basics**"
      ],
      "metadata": {
        "id": "6rz6kKL2F03H"
      }
    },
    {
      "cell_type": "markdown",
      "source": [
        "Q1.What is the difference between descriptive statistics and inferential statistics? Explain with examples.\n",
        "\n",
        "-  Descriptive Statistics\n",
        "\n",
        "Purpose: To describe and summarize the main features of a dataset.\n",
        "\n",
        "Function: Organizes, presents, and summarizes data using numerical and graphical methods for a specific group.\n",
        "\n",
        "Example: A company analyzes the performance of its 500 employees.\n",
        "\n",
        "Calculations: The company calculates the average salary (mean), the midpoint salary (median), and the standard deviation of salaries for those 500 employees.\n",
        "\n",
        "Result: The company now has a clear overview of the salary distribution within its employee base.\n",
        "\n",
        "Inferential Statistics\n",
        "\n",
        "Purpose: To make inferences, predictions, or decisions about a population based on a sample.\n",
        "\n",
        "Function: Uses a sample to draw conclusions about a larger, unstudied group.\n",
        "\n",
        "Example: A company wants to understand the salary expectations of all employees in its industry.\n",
        "\n",
        "Process: It takes a random sample of 100 employees from various companies within that industry.\n",
        "\n",
        "Calculations: It uses inferential tests, like a t-test, to compare the average salary from the sample to the known average industry salary to see if the sample is significantly different.\n",
        "\n",
        "Result: Based on the sample, the company can infer if the average salary in the industry is higher or lower than it was previously believed to be."
      ],
      "metadata": {
        "id": "XE_2qgHOF98y"
      }
    },
    {
      "cell_type": "markdown",
      "source": [
        "Q2.What is sampling in statistics? Explain the differences between random and stratified sampling.\n",
        "\n",
        "-  Sampling is the process of selecting a subset of a population to draw conclusions about the entire group. The main difference between simple random and stratified sampling is that random sampling selects individuals from the entire population without any other consideration, while stratified sampling first divides the Sampling is the process of selecting a subset of a population to draw conclusions about the entire group. The main difference between simple random and stratified sampling is that random sampling selects individuals from the entire population without any other consideration, while stratified sampling first divides the randomly samples from each subgroup."
      ],
      "metadata": {
        "id": "hm1HY014HLVV"
      }
    },
    {
      "cell_type": "markdown",
      "source": [
        "Q3.Define mean, median, and mode. Explain why these measures of central tendency are important.\n",
        "\n",
        "-  Mean: The sum of all values divided by the number of values. It is the standard average, but it can be heavily influenced by extreme values (outliers).\n",
        "\n",
        "Median: The middle value when the data is arranged in order from smallest to largest. If there is an even number of data points, it is the average of the two middle numbers. It is less affected by outliers than the mean.\n",
        "\n",
        "Mode: The value that appears most often in a dataset. A dataset can have one mode, more than one mode, or no mode at all.\n",
        "\n",
        "These measures are important because they provide a single, representative value to summarize a dataset, making it easier to understand and compare data, spot trends, and make informed decisions."
      ],
      "metadata": {
        "id": "CH4ij927ICKN"
      }
    },
    {
      "cell_type": "markdown",
      "source": [
        "Q4.Explain skewness and kurtosis. What does a positive skew imply about the data?\n",
        "\n",
        "-  Skewness\n",
        "\n",
        "Definition: A measure of the asymmetry of a probability distribution.\n",
        "\n",
        "Positive skew: The right tail is longer or fatter than the left tail. The mean is greater than the median, and the mode is less than the median.\n",
        "\n",
        "Negative skew: The left tail is longer or fatter than the right tail. The mean is less than the median.\n",
        "\n",
        "Kurtosis\n",
        "\n",
        "Definition: A measure of the \"tailedness\" or the sharpness of the peak of a distribution compared to a normal distribution.\n",
        "\n",
        "Leptokurtic (positive excess kurtosis): A distribution that is more peaked and has heavier tails than a normal distribution. This indicates a higher probability of extreme outliers.\n",
        "\n",
        "Platykurtic (negative excess kurtosis): A distribution that is flatter and has lighter tails than a normal distribution.\n",
        "\n",
        "Mesokurtic: A normal distribution, which has a kurtosis value of 3 (or an excess kurtosis of 0).\n",
        "\n",
        "Zero skew: The distribution is perfectly symmetrical, with the mean, median, and mode being equal.\n",
        "\n",
        "A positive skew implies the data has a long right tail, with the mean being greater than the median, suggesting that most of the data is concentrated on the left side, with a few high values stretching out to the right.  "
      ],
      "metadata": {
        "id": "fPk38GZvIv2l"
      }
    },
    {
      "cell_type": "code",
      "source": [
        "#Q5.Implement a Python program to compute the mean, median, and mode of a given list of numbers. numbers = [12, 15, 12, 18, 19, 12, 20, 22, 19, 19, 24, 24, 24, 26, 28]\n",
        "\n",
        "# Program to compute mean, median, and mode\n",
        "\n",
        "from statistics import mean, median, mode, multimode\n",
        "\n",
        "# Given list of numbers\n",
        "numbers = [12, 15, 12, 18, 19, 12, 20, 22, 19, 19, 24, 24, 24, 26, 28]\n",
        "\n",
        "# Calculate mean, median, and mode\n",
        "mean_value = mean(numbers)\n",
        "median_value = median(numbers)\n",
        "\n",
        "# Handle multiple modes if they exist\n",
        "modes = multimode(numbers)\n",
        "if len(modes) == 1:\n",
        "    mode_value = modes[0]\n",
        "else:\n",
        "    mode_value = modes  # List of multiple modes\n",
        "\n",
        "# Display results\n",
        "print(f\"Numbers: {numbers}\")\n",
        "print(f\"Mean: {mean_value}\")\n",
        "print(f\"Median: {median_value}\")\n",
        "print(f\"Mode: {mode_value}\")\n"
      ],
      "metadata": {
        "colab": {
          "base_uri": "https://localhost:8080/"
        },
        "id": "knAzdGdMJ5aR",
        "outputId": "030f032a-b3e6-4648-b5fc-301e5f4232fe"
      },
      "execution_count": 1,
      "outputs": [
        {
          "output_type": "stream",
          "name": "stdout",
          "text": [
            "Numbers: [12, 15, 12, 18, 19, 12, 20, 22, 19, 19, 24, 24, 24, 26, 28]\n",
            "Mean: 19.6\n",
            "Median: 19\n",
            "Mode: [12, 19, 24]\n"
          ]
        }
      ]
    },
    {
      "cell_type": "code",
      "source": [
        "#Q6. Compute the covariance and correlation coefficient between the following two datasets provided as lists in Python: list_x = [10, 20, 30, 40, 50] list_y = [15, 25, 35, 45, 60]\n",
        "\n",
        "# Program to compute covariance and correlation coefficient\n",
        "\n",
        "import numpy as np\n",
        "\n",
        "# Given data\n",
        "list_x = [10, 20, 30, 40, 50]\n",
        "list_y = [15, 25, 35, 45, 60]\n",
        "\n",
        "# Compute covariance matrix\n",
        "cov_matrix = np.cov(list_x, list_y, bias=False)\n",
        "\n",
        "# Extract covariance between X and Y\n",
        "cov_xy = cov_matrix[0, 1]\n",
        "\n",
        "# Compute correlation coefficient\n",
        "corr_xy = np.corrcoef(list_x, list_y)[0, 1]\n",
        "\n",
        "# Display results\n",
        "print(f\"List X: {list_x}\")\n",
        "print(f\"List Y: {list_y}\")\n",
        "print(f\"Covariance (X, Y): {cov_xy}\")\n",
        "print(f\"Correlation Coefficient (r): {corr_xy}\")\n"
      ],
      "metadata": {
        "colab": {
          "base_uri": "https://localhost:8080/"
        },
        "id": "MPuC8nqqLYob",
        "outputId": "b4f8dc83-fcec-4a9c-bfbd-8fb53bf30023"
      },
      "execution_count": 2,
      "outputs": [
        {
          "output_type": "stream",
          "name": "stdout",
          "text": [
            "List X: [10, 20, 30, 40, 50]\n",
            "List Y: [15, 25, 35, 45, 60]\n",
            "Covariance (X, Y): 275.0\n",
            "Correlation Coefficient (r): 0.995893206467704\n"
          ]
        }
      ]
    },
    {
      "cell_type": "code",
      "source": [
        "#Q7. Write a Python script to draw a boxplot for the following numeric list and identify its outliers. Explain the result: data = [12, 14, 14, 15, 18, 19, 19, 21, 22, 22, 23, 23, 24, 26, 29, 35]\n",
        "\n",
        "# Program to draw a boxplot and identify outliers\n",
        "\n",
        "import matplotlib.pyplot as plt\n",
        "import numpy as np\n",
        "\n",
        "# Given data\n",
        "data = [12, 14, 14, 15, 18, 19, 19, 21, 22, 22, 23, 23, 24, 26, 29, 35]\n",
        "\n",
        "# Draw boxplot\n",
        "plt.boxplot(data, vert=False, patch_artist=True, boxprops=dict(facecolor='lightblue'))\n",
        "plt.title(\"Boxplot of Given Data\")\n",
        "plt.xlabel(\"Values\")\n",
        "plt.show()\n",
        "\n",
        "# Compute quartiles and IQR\n",
        "Q1 = np.percentile(data, 25)\n",
        "Q3 = np.percentile(data, 75)\n",
        "IQR = Q3 - Q1\n",
        "\n",
        "# Define bounds for outliers\n",
        "lower_bound = Q1 - 1.5 * IQR\n",
        "upper_bound = Q3 + 1.5 * IQR\n",
        "\n",
        "# Identify outliers\n",
        "outliers = [x for x in data if x < lower_bound or x > upper_bound]\n",
        "\n",
        "# Display results\n",
        "print(f\"Q1 (25th percentile): {Q1}\")\n",
        "print(f\"Q3 (75th percentile): {Q3}\")\n",
        "print(f\"IQR (Interquartile Range): {IQR}\")\n",
        "print(f\"Lower Bound: {lower_bound}\")\n",
        "print(f\"Upper Bound: {upper_bound}\")\n",
        "print(f\"Outliers: {outliers}\")\n"
      ],
      "metadata": {
        "colab": {
          "base_uri": "https://localhost:8080/",
          "height": 576
        },
        "id": "U0sNDo_IMb9Y",
        "outputId": "26aacaf1-18b3-4e84-bea9-1ac83618831b"
      },
      "execution_count": 3,
      "outputs": [
        {
          "output_type": "display_data",
          "data": {
            "text/plain": [
              "<Figure size 640x480 with 1 Axes>"
            ],
            "image/png": "[encoded data removed]"
          },
          "metadata": {}
        },
        {
          "output_type": "stream",
          "name": "stdout",
          "text": [
            "Q1 (25th percentile): 17.25\n",
            "Q3 (75th percentile): 23.25\n",
            "IQR (Interquartile Range): 6.0\n",
            "Lower Bound: 8.25\n",
            "Upper Bound: 32.25\n",
            "Outliers: [35]\n"
          ]
        }
      ]
    },
    {
      "cell_type": "code",
      "source": [
        "#Q8.You are working as a data analyst in an e-commerce company. The marketing team wants to know if there is a relationship between advertising spend and daily sales. ● Explain how you would use covariance and correlation to explore this relationship. ● Write Python code to compute the correlation between the two lists: advertising_spend = [200, 250, 300, 400, 500]   daily_sales = [2200, 2450, 2750, 3200, 4000]\n",
        "\n",
        "# Program to analyze relationship between advertising spend and daily sales\n",
        "\n",
        "import numpy as np\n",
        "\n",
        "# Given data\n",
        "advertising_spend = [200, 250, 300, 400, 500]\n",
        "daily_sales = [2200, 2450, 2750, 3200, 4000]\n",
        "\n",
        "# Compute covariance matrix\n",
        "cov_matrix = np.cov(advertising_spend, daily_sales, bias=False)\n",
        "cov_xy = cov_matrix[0, 1]\n",
        "\n",
        "# Compute correlation coefficient\n",
        "corr_xy = np.corrcoef(advertising_spend, daily_sales)[0, 1]\n",
        "\n",
        "# Display results\n",
        "print(f\"Advertising Spend: {advertising_spend}\")\n",
        "print(f\"Daily Sales: {daily_sales}\")\n",
        "print(f\"Covariance (X, Y): {cov_xy}\")\n",
        "print(f\"Correlation Coefficient (r): {corr_xy}\")\n"
      ],
      "metadata": {
        "colab": {
          "base_uri": "https://localhost:8080/"
        },
        "id": "3xl9Rv4eNOpm",
        "outputId": "12478ae4-98d5-45db-b1f4-41bf20ea5775"
      },
      "execution_count": 4,
      "outputs": [
        {
          "output_type": "stream",
          "name": "stdout",
          "text": [
            "Advertising Spend: [200, 250, 300, 400, 500]\n",
            "Daily Sales: [2200, 2450, 2750, 3200, 4000]\n",
            "Covariance (X, Y): 84875.0\n",
            "Correlation Coefficient (r): 0.9935824101653329\n"
          ]
        }
      ]
    },
    {
      "cell_type": "code",
      "source": [
        "#Q9.Your team has collected customer satisfaction survey data on a scale of 1-10 and wants to understand its distribution before launching a new product. ● Explain which summary statistics and visualizations (e.g. mean, standard deviation, histogram) you’d use. ● Write Python code to create a histogram using Matplotlib for the survey data: survey_scores = [7, 8, 5, 9, 6, 7, 8, 9, 10, 4, 7, 6, 9, 8, 7]\n",
        "\n",
        "# Program to analyze customer satisfaction survey data\n",
        "\n",
        "import numpy as np\n",
        "import matplotlib.pyplot as plt\n",
        "from statistics import mean, median, mode, stdev\n",
        "\n",
        "# Given survey data\n",
        "survey_scores = [7, 8, 5, 9, 6, 7, 8, 9, 10, 4, 7, 6, 9, 8, 7]\n",
        "\n",
        "# --- Summary Statistics ---\n",
        "mean_score = mean(survey_scores)\n",
        "median_score = median(survey_scores)\n",
        "mode_score = mode(survey_scores)\n",
        "std_dev = stdev(survey_scores)\n",
        "score_range = max(survey_scores) - min(survey_scores)\n",
        "\n",
        "print(f\"Mean: {mean_score}\")\n",
        "print(f\"Median: {median_score}\")\n",
        "print(f\"Mode: {mode_score}\")\n",
        "print(f\"Standard Deviation: {std_dev:.2f}\")\n",
        "print(f\"Range: {score_range}\")\n",
        "\n",
        "# --- Visualization (Histogram) ---\n",
        "plt.hist(survey_scores, bins=6, color='skyblue', edgecolor='black')\n",
        "plt.title(\"Customer Satisfaction Survey Distribution\")\n",
        "plt.xlabel(\"Satisfaction Score (1–10)\")\n",
        "plt.ylabel(\"Frequency\")\n",
        "plt.grid(axis='y', linestyle='--', alpha=0.7)\n",
        "plt.show()\n"
      ],
      "metadata": {
        "colab": {
          "base_uri": "https://localhost:8080/",
          "height": 559
        },
        "id": "oJw06ZmZOXzP",
        "outputId": "c4894d74-bba9-4173-ae67-81609cc6cb9d"
      },
      "execution_count": 5,
      "outputs": [
        {
          "output_type": "stream",
          "name": "stdout",
          "text": [
            "Mean: 7.333333333333333\n",
            "Median: 7\n",
            "Mode: 7\n",
            "Standard Deviation: 1.63\n",
            "Range: 6\n"
          ]
        },
        {
          "output_type": "display_data",
          "data": {
            "text/plain": [
              "<Figure size 640x480 with 1 Axes>"
            ],
            "image/png": "[encoded data removed]"
          },
          "metadata": {}
        }
      ]
    }
  ]
}